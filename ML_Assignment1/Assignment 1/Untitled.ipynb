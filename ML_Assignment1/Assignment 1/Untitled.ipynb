{
 "cells": [
  {
   "cell_type": "code",
   "execution_count": 6,
   "id": "8b3cda9d",
   "metadata": {},
   "outputs": [
    {
     "name": "stdout",
     "output_type": "stream",
     "text": [
      "NpzFile 'Data/data.npz' with keys: y, x\n"
     ]
    }
   ],
   "source": [
    "from sklearn.model_selection import StratifiedKFold\n",
    "import numpy as np\n",
    "\n",
    "from sklearn.linear_model import LinearRegression\n",
    "from sklearn.neural_network import MLPRegressor\n",
    "from sklearn.metrics import mean_squared_error\n",
    "import warnings\n",
    "warnings.filterwarnings(\"ignore\")\n",
    "\n",
    "data = np.load(\"Data/data.npz\")\n",
    "X = data[\"x\"]\n",
    "y = data[\"y\"]\n",
    "kfcv = StratifiedKFold(n_splits=10, shuffle=True)\n",
    "fold_iterator = kfcv.split(X, y)\n",
    "\n",
    "linear_set = []\n",
    "mlp_set = []\n",
    "\n",
    "for idx_train, idx_val in fold_iterator:\n",
    "    X_train, y_train = X[idx_train], y[idx_train]\n",
    "    X_val, y_val = X[idx_val], y[idx_val]\n",
    "    \n",
    "    Linear\n",
    "    \n"
   ]
  },
  {
   "cell_type": "code",
   "execution_count": null,
   "id": "600c4aa3",
   "metadata": {},
   "outputs": [],
   "source": []
  }
 ],
 "metadata": {
  "kernelspec": {
   "display_name": "Python 3 (ipykernel)",
   "language": "python",
   "name": "python3"
  },
  "language_info": {
   "codemirror_mode": {
    "name": "ipython",
    "version": 3
   },
   "file_extension": ".py",
   "mimetype": "text/x-python",
   "name": "python",
   "nbconvert_exporter": "python",
   "pygments_lexer": "ipython3",
   "version": "3.11.5"
  }
 },
 "nbformat": 4,
 "nbformat_minor": 5
}
